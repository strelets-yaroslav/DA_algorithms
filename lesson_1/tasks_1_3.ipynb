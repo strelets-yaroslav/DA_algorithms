{
 "cells": [
  {
   "cell_type": "markdown",
   "metadata": {},
   "source": [
    "**Домашние задания к уроку 1. Алгоритм линейной регрессии. Градиентный спуск**\n",
    "1. Проведите небольшое исследование алгоритма градиентного спуска на данных из урока. Оцените влияние значений скорости обучения (`eta`) и количества итераций на ошибку алгоритма. Как связаны эти два гиперпараметра между собой? Подберите скорость обучения и количество итераций до совпадения ответов алгоритма с результатами МНК. Как можно ускорить процесс вычисления весов?  \n",
    "2. $*$ В этом коде мы избавляемся от итераций по весам, но тут есть ошибка, исправьте ее:\n",
    "3. $*$ Вместо того, чтобы задавать количество итераций, задайте условие остановки алгоритма - когда ошибка за итерацию начинает изменяться ниже определенного порога. Сколько нужно сделать итераций, если установить допустимое отклонение mse за одну итерацию в размере diff=1e-6, а значение eta=1e-2?"
   ]
  },
  {
   "cell_type": "code",
   "execution_count": 1,
   "metadata": {},
   "outputs": [],
   "source": [
    "import warnings\n",
    "warnings.filterwarnings('ignore')\n",
    "\n",
    "import numpy as np\n",
    "import matplotlib.pyplot as plt"
   ]
  },
  {
   "cell_type": "code",
   "execution_count": 2,
   "metadata": {},
   "outputs": [],
   "source": [
    "X = np.array([[1, 1, 1, 1, 1, 1, 1, 1, 1, 1],     # для умножения на intercept\n",
    "              [1, 1, 2, 1, 3, 0, 5, 10, 1, 2]]).T # стаж репетитора\n",
    "# средний балл ЕГЭ (целевая переменная)\n",
    "y = [45, 55, 50, 59, 65, 35, 75, 80, 50, 60]"
   ]
  },
  {
   "cell_type": "code",
   "execution_count": 3,
   "metadata": {},
   "outputs": [],
   "source": [
    "def calc_mse(y, y_pred):\n",
    "    err = np.mean((y - y_pred)**2)\n",
    "    return err"
   ]
  },
  {
   "cell_type": "markdown",
   "metadata": {},
   "source": [
    "В функции реализованы 2 и 3 задачи."
   ]
  },
  {
   "cell_type": "code",
   "execution_count": 4,
   "metadata": {},
   "outputs": [],
   "source": [
    "def run_gd(x, y, max_iters=1000, eta=1e-3, diff=0.):\n",
    "    n = x.shape[0]\n",
    "    prev_err, err = np.inf, 0.\n",
    "    w=np.array([1, 0.5])\n",
    "    \n",
    "    for i in range(max_iters):\n",
    "        if abs(prev_err - err) < diff:\n",
    "            break\n",
    "        \n",
    "        y_pred = np.dot(x, w)\n",
    "        prev_err = err\n",
    "        err = calc_mse(y, y_pred)\n",
    "        w -= (eta * (1/n * 2 * np.sum(x.T * (y_pred - y), axis=1)))\n",
    "    \n",
    "    return (w, err, i)"
   ]
  },
  {
   "cell_type": "code",
   "execution_count": 5,
   "metadata": {},
   "outputs": [
    {
     "name": "stdout",
     "output_type": "stream",
     "text": [
      "Веса: [47.22286276  3.91242793], ошибка: 45.937547277798465, затраченное число итераций: 810\n"
     ]
    }
   ],
   "source": [
    "(w, err, iters) = run_gd(X, y, eta=1e-2, diff=1e-6)  # 3е задание\n",
    "print(f'Веса: {w}, ошибка: {err}, затраченное число итераций: {iters}')"
   ]
  },
  {
   "cell_type": "markdown",
   "metadata": {},
   "source": [
    "Фискируем количество итераций и получим ошибку для каждой $\\eta \\in [10^{-6}, 1.]$ - построим график зависимости ошибки от $\\eta$, чтобы опередлить оптимальное значение для $\\eta$."
   ]
  },
  {
   "cell_type": "code",
   "execution_count": 6,
   "metadata": {},
   "outputs": [
    {
     "data": {
      "text/plain": [
       "(array([1.00000000e-06, 2.06913808e-06, 4.28133240e-06, 8.85866790e-06,\n",
       "        1.83298071e-05, 3.79269019e-05, 7.84759970e-05, 1.62377674e-04,\n",
       "        3.35981829e-04, 6.95192796e-04, 1.43844989e-03, 2.97635144e-03,\n",
       "        6.15848211e-03, 1.27427499e-02, 2.63665090e-02, 5.45559478e-02,\n",
       "        1.12883789e-01, 2.33572147e-01, 4.83293024e-01, 1.00000000e+00]),\n",
       " [[3110.338998672967,\n",
       "   3045.207750459165,\n",
       "   2916.8008192317134,\n",
       "   2676.290722598546,\n",
       "   2270.5289184024496,\n",
       "   1715.3632830305773,\n",
       "   1205.2594086963159,\n",
       "   944.8088974928744,\n",
       "   783.7199062765897,\n",
       "   553.9910603283303,\n",
       "   280.6712658518792,\n",
       "   93.35061355809174,\n",
       "   47.65529214843613,\n",
       "   45.93923058991209,\n",
       "   45.93750000093512,\n",
       "   45.93750000000001,\n",
       "   inf,\n",
       "   nan,\n",
       "   nan,\n",
       "   nan],\n",
       "  [3049.239029850246,\n",
       "   2924.6265623580825,\n",
       "   2690.484109669007,\n",
       "   2292.914159094003,\n",
       "   1741.9538042356805,\n",
       "   1223.7055567777925,\n",
       "   952.4399906491823,\n",
       "   792.1706506206554,\n",
       "   566.0951740372614,\n",
       "   292.46604133432777,\n",
       "   98.48200809872728,\n",
       "   48.07438431540527,\n",
       "   45.94028636274973,\n",
       "   45.937500002789214,\n",
       "   45.9375,\n",
       "   45.937500000000014,\n",
       "   nan,\n",
       "   nan,\n",
       "   nan,\n",
       "   nan],\n",
       "  [2932.33866682433,\n",
       "   2704.5240717195184,\n",
       "   2315.2291763809844,\n",
       "   1768.877249155556,\n",
       "   1242.9067250701041,\n",
       "   960.3704725217082,\n",
       "   800.562133975028,\n",
       "   578.2241052017995,\n",
       "   304.5460133768862,\n",
       "   103.98487997930181,\n",
       "   48.5703787516736,\n",
       "   45.94184056318446,\n",
       "   45.93750000733115,\n",
       "   45.9375,\n",
       "   45.937499999999986,\n",
       "   45.937500000000014,\n",
       "   nan,\n",
       "   nan,\n",
       "   nan,\n",
       "   nan]])"
      ]
     },
     "execution_count": 6,
     "metadata": {},
     "output_type": "execute_result"
    }
   ],
   "source": [
    "etas = np.logspace(-6, 0, 20)\n",
    "examples = [[run_gd(X, y, max_iters=iters, eta=_eta)[1] for _eta in etas] for iters in (500, 1000, 2000)]\n",
    "etas, examples"
   ]
  },
  {
   "cell_type": "code",
   "execution_count": 7,
   "metadata": {},
   "outputs": [
    {
     "data": {
      "image/png": "[encoded data removed]",
      "text/plain": [
       "<Figure size 432x288 with 1 Axes>"
      ]
     },
     "metadata": {
      "needs_background": "light"
     },
     "output_type": "display_data"
    }
   ],
   "source": [
    "plt.plot(etas, examples[0], 'r', label='500 iters')\n",
    "plt.plot(etas, examples[1], 'g', label='1000 iters')\n",
    "plt.plot(etas, examples[2], 'b', label='2000 iters')\n",
    "plt.xscale('log')\n",
    "plt.xlabel('eta')\n",
    "plt.ylabel('err')\n",
    "plt.grid()\n",
    "plt.legend();"
   ]
  },
  {
   "cell_type": "markdown",
   "metadata": {},
   "source": [
    "Видно, что большее количество итераций приводит к меньшим значениям ошибки. Также можно сделать вывод, что чем меньше значение $\\eta$, тем больше итераций потребуется для достижения минимальной ошибки, но при этом минимум точно не будет пройден. Если же увеличивать $\\eta$, то после превышения ею оптимальных значений, алгоритм будет расходится - будет перескакивать через минимум и увеличивать значение ошибки.\n",
    "И видно, что наименьшая ошибка достигается при значении $\\eta \\approx 0.0545559478$ (берём результаты при 500 итераций - сходимость нагляднее).\n",
    "\n",
    "Повторим ту же процедуру для $\\eta \\in [0.04, 0.07]$ для более точного определения оптимального $\\eta$, но теперь оценим влияние на количество итераций, необходимых для получения ошибки с заданным порогом diff."
   ]
  },
  {
   "cell_type": "code",
   "execution_count": 8,
   "metadata": {},
   "outputs": [
    {
     "data": {
      "text/plain": [
       "(array([0.04      , 0.04333333, 0.04666667, 0.05      , 0.05333333,\n",
       "        0.05666667, 0.06      , 0.06333333, 0.06666667, 0.07      ]),\n",
       " [[190, 176, 164, 154, 145, 137, 129, 123, 999, 999],\n",
       "  [217, 201, 188, 176, 165, 156, 147, 140, 999, 999],\n",
       "  [245, 226, 211, 197, 185, 175, 165, 157, 999, 999]])"
      ]
     },
     "execution_count": 8,
     "metadata": {},
     "output_type": "execute_result"
    }
   ],
   "source": [
    "etas = np.linspace(.04, .07, 10)\n",
    "examples = [[run_gd(X, y, eta=_eta, diff=_diff)[2] for _eta in etas] for _diff in (10e-6, 10e-7, 10e-8)]\n",
    "etas, examples"
   ]
  },
  {
   "cell_type": "code",
   "execution_count": 9,
   "metadata": {},
   "outputs": [
    {
     "data": {
      "image/png": "[encoded data removed]",
      "text/plain": [
       "<Figure size 432x288 with 1 Axes>"
      ]
     },
     "metadata": {
      "needs_background": "light"
     },
     "output_type": "display_data"
    }
   ],
   "source": [
    "plt.plot(etas, examples[0], 'r', label='diff 10e-6')\n",
    "plt.plot(etas, examples[1], 'g', label='diff 10e-7')\n",
    "plt.plot(etas, examples[2], 'b', label='diff 10e-8')\n",
    "plt.yscale('log')\n",
    "plt.xlabel('eta')\n",
    "plt.ylabel('iters')\n",
    "plt.grid()\n",
    "plt.legend();"
   ]
  },
  {
   "cell_type": "markdown",
   "metadata": {},
   "source": [
    "Из полученных результатов можно сделать вывод, что зависимость числа итераций от $\\eta$ обратнопропорциональна до оптимальных значений $\\eta$, а также что оптимально брать значение $\\eta$ равным примерно 0.06333, тем самым потребуется минимальное количество итераций для достижения порогового значения ошибки, т.е. для вычисления весов."
   ]
  },
  {
   "cell_type": "code",
   "execution_count": 10,
   "metadata": {},
   "outputs": [
    {
     "name": "stdout",
     "output_type": "stream",
     "text": [
      "Веса: [47.22203507  3.91269246], ошибка: 45.93756341236347, затраченное число итераций: 123\n"
     ]
    }
   ],
   "source": [
    "(w, err, iters) = run_gd(X, y, eta=0.06333333, diff=10e-6)\n",
    "print(f'Веса: {w}, ошибка: {err}, затраченное число итераций: {iters}')"
   ]
  },
  {
   "cell_type": "markdown",
   "metadata": {},
   "source": [
    "Потребовалось всего 140 итераций вместо 810 при $\\eta = 0.02$, чтобы достичь ошибки с заданным diff $10^{-6}$"
   ]
  },
  {
   "cell_type": "code",
   "execution_count": 11,
   "metadata": {},
   "outputs": [
    {
     "name": "stdout",
     "output_type": "stream",
     "text": [
      "Веса: [47.23214222  3.9107144 ], ошибка: 45.93750000000027, затраченное число итераций: 265\n"
     ]
    }
   ],
   "source": [
    "(w, err, iters) = run_gd(X, y, eta=0.06333333, diff=10e-20)\n",
    "print(f'Веса: {w}, ошибка: {err}, затраченное число итераций: {iters}')"
   ]
  },
  {
   "cell_type": "code",
   "execution_count": null,
   "metadata": {},
   "outputs": [],
   "source": []
  }
 ],
 "metadata": {
  "kernelspec": {
   "display_name": "Python 3",
   "language": "python",
   "name": "python3"
  },
  "language_info": {
   "codemirror_mode": {
    "name": "ipython",
    "version": 3
   },
   "file_extension": ".py",
   "mimetype": "text/x-python",
   "name": "python",
   "nbconvert_exporter": "python",
   "pygments_lexer": "ipython3",
   "version": "3.7.3"
  }
 },
 "nbformat": 4,
 "nbformat_minor": 2
}
