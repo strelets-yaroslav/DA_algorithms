{
 "cells": [
  {
   "cell_type": "markdown",
   "metadata": {},
   "source": [
    "3. (\\*) Обучить любую модель классификации (из рассмотренных в курсе) на датасете IRIS до применения PCA и после него. Сравнить качество классификации по отложенной выборке."
   ]
  },
  {
   "cell_type": "markdown",
   "metadata": {},
   "source": [
    "Протестировал на модели случайного леса."
   ]
  },
  {
   "cell_type": "code",
   "execution_count": 2,
   "metadata": {},
   "outputs": [],
   "source": [
    "import warnings\n",
    "warnings.filterwarnings('ignore')\n",
    "\n",
    "import numpy as np\n",
    "from sklearn import datasets\n",
    "from sklearn.model_selection import train_test_split"
   ]
  },
  {
   "cell_type": "code",
   "execution_count": 3,
   "metadata": {},
   "outputs": [],
   "source": [
    "# Загрузим игрушечный датасет из sklearn\n",
    "iris = datasets.load_iris()\n",
    "X, y = iris.data, iris.target\n",
    "train_data, test_data, train_labels, test_labels = train_test_split(X, \n",
    "                                                                    y, \n",
    "                                                                    test_size = 0.3,\n",
    "                                                                    random_state = 42)"
   ]
  },
  {
   "cell_type": "code",
   "execution_count": 4,
   "metadata": {},
   "outputs": [],
   "source": [
    "# Метод для нормализации данных\n",
    "\n",
    "def centered(data, means=None, std=None):\n",
    "    X_ = data.astype(float)\n",
    "    rows, cols = X_.shape\n",
    "\n",
    "    if means is None:\n",
    "        means = X_.mean(axis=0)\n",
    "    \n",
    "    if std is None:\n",
    "        std = np.std(X_, axis=0)\n",
    "    \n",
    "    for j in range(cols):\n",
    "        for i in range(rows):\n",
    "            X_[i, j] = (X_[i, j] - means[j]) / std[j]\n",
    "    \n",
    "    return X_, means, std"
   ]
  },
  {
   "cell_type": "code",
   "execution_count": 5,
   "metadata": {},
   "outputs": [],
   "source": [
    "# Метод получения матрицы весов для PCA преобразования с помощью SVD\n",
    "# count - для определения первых главных компонент, обеспечивающих долю изменчивости до порога limit\n",
    "\n",
    "def PCA_SVD(data, limit=0.95, count=0):\n",
    "    X_ = data.astype(float)\n",
    "    props = []\n",
    "    \n",
    "    u, s, v = np.linalg.svd(X_)\n",
    "    s = s ** 2\n",
    "    \n",
    "    if count == 0:\n",
    "        eig_sum, cumul = sum(s), 0.0\n",
    "        for i in s:\n",
    "            prop = i / eig_sum\n",
    "            props.append(prop)\n",
    "            cumul += prop\n",
    "            count += 1\n",
    "            if cumul >= limit:\n",
    "                break\n",
    "    \n",
    "    W_svd = v[:count].T\n",
    "    \n",
    "    return W_svd, count, props"
   ]
  },
  {
   "cell_type": "code",
   "execution_count": 6,
   "metadata": {},
   "outputs": [],
   "source": [
    "rng = np.random.default_rng(seed=42)\n",
    "\n",
    "def get_bootstrap(data, labels, N):\n",
    "    n_samples = data.shape[0]\n",
    "    bootstrap = []\n",
    "    full_indices = range(n_samples)\n",
    "    \n",
    "    for i in range(N):\n",
    "        b_data = np.zeros(data.shape)\n",
    "        b_labels = np.zeros(labels.shape)\n",
    "        b_indices = set()  # сохраняем индексы, используемые для дерева\n",
    "        \n",
    "        for j in full_indices:\n",
    "            sample_index = rng.integers(0, high=n_samples-1, size=1)[0]\n",
    "            b_indices.add(sample_index)\n",
    "            b_data[j] = data[sample_index]\n",
    "            b_labels[j] = labels[sample_index]\n",
    "            \n",
    "        # сохраняем не вошедшие в bootstrap индексы для OOB метода\n",
    "        bootstrap.append((b_data, b_labels, np.setdiff1d(full_indices, list(b_indices))))\n",
    "    return bootstrap"
   ]
  },
  {
   "cell_type": "code",
   "execution_count": 7,
   "metadata": {},
   "outputs": [],
   "source": [
    "def get_subsample(len_sample):\n",
    "    # будем сохранять не сами признаки, а их индексы\n",
    "    sample_indexes = [i for i in range(len_sample)]\n",
    "    \n",
    "    len_subsample = int(np.sqrt(len_sample))\n",
    "    subsample = []\n",
    "    \n",
    "    rng.shuffle(sample_indexes)\n",
    "    for _ in range(len_subsample):\n",
    "        subsample.append(sample_indexes.pop())\n",
    "        \n",
    "    return subsample"
   ]
  },
  {
   "cell_type": "code",
   "execution_count": 8,
   "metadata": {},
   "outputs": [],
   "source": [
    "# Реализуем класс узла\n",
    "\n",
    "class Node:\n",
    "    \n",
    "    def __init__(self, index, t, true_branch, false_branch):\n",
    "        self.index = index  # индекс признака, по которому ведется сравнение с порогом в этом узле\n",
    "        self.t = t  # значение порога\n",
    "        self.true_branch = true_branch  # поддерево, удовлетворяющее условию в узле\n",
    "        self.false_branch = false_branch  # поддерево, не удовлетворяющее условию в узле"
   ]
  },
  {
   "cell_type": "code",
   "execution_count": 9,
   "metadata": {},
   "outputs": [],
   "source": [
    "# И класс терминального узла (листа)\n",
    "\n",
    "class Leaf:\n",
    "    \n",
    "    def __init__(self, data, labels):\n",
    "        self.data = data\n",
    "        self.labels = labels\n",
    "        self.prediction = self.predict()\n",
    "        \n",
    "    def predict(self):\n",
    "        # подсчет количества объектов разных классов\n",
    "        classes = {}  # сформируем словарь \"класс: количество объектов\"\n",
    "        for label in self.labels:\n",
    "            if label not in classes:\n",
    "                classes[label] = 0\n",
    "            classes[label] += 1\n",
    "        #  найдем класс, количество объектов которого будет максимальным в этом листе и вернем его    \n",
    "        prediction = max(classes, key=classes.get)\n",
    "        return prediction "
   ]
  },
  {
   "cell_type": "code",
   "execution_count": 10,
   "metadata": {},
   "outputs": [],
   "source": [
    "# Расчет критерия Джини\n",
    "\n",
    "def gini(labels):\n",
    "    #  подсчет количества объектов разных классов\n",
    "    classes = {}\n",
    "    for label in labels:\n",
    "        if label not in classes:\n",
    "            classes[label] = 0\n",
    "        classes[label] += 1\n",
    "    \n",
    "    #  расчет критерия\n",
    "    impurity = 1\n",
    "    for label in classes:\n",
    "        p = classes[label] / len(labels)\n",
    "        impurity -= p ** 2\n",
    "        \n",
    "    return impurity"
   ]
  },
  {
   "cell_type": "code",
   "execution_count": 11,
   "metadata": {},
   "outputs": [],
   "source": [
    "# Расчет качества\n",
    "\n",
    "def quality(left_labels, right_labels, current_gini):\n",
    "\n",
    "    # доля выбоки, ушедшая в левое поддерево\n",
    "    p = float(left_labels.shape[0]) / (left_labels.shape[0] + right_labels.shape[0])\n",
    "    \n",
    "    return current_gini - p * gini(left_labels) - (1 - p) * gini(right_labels)"
   ]
  },
  {
   "cell_type": "code",
   "execution_count": 12,
   "metadata": {},
   "outputs": [],
   "source": [
    "# Разбиение датасета в узле\n",
    "\n",
    "def split(data, labels, index, t):\n",
    "    \n",
    "    left = np.where(data[:, index] <= t)\n",
    "    right = np.where(data[:, index] > t)\n",
    "        \n",
    "    true_data = data[left]\n",
    "    false_data = data[right]\n",
    "    true_labels = labels[left]\n",
    "    false_labels = labels[right]\n",
    "        \n",
    "    return true_data, false_data, true_labels, false_labels"
   ]
  },
  {
   "cell_type": "code",
   "execution_count": 13,
   "metadata": {},
   "outputs": [],
   "source": [
    "# Нахождение наилучшего разбиения\n",
    "\n",
    "def find_best_split(data, labels):\n",
    "    \n",
    "    #  обозначим минимальное количество объектов в узле\n",
    "    min_leaf = 1\n",
    "\n",
    "    current_gini = gini(labels)\n",
    "\n",
    "    best_quality = 0\n",
    "    best_t = None\n",
    "    best_index = None\n",
    "    \n",
    "    n_features = data.shape[1]\n",
    "    \n",
    "    # выбор индекса из подвыборки длиной sqrt(n_features)\n",
    "    subsample = get_subsample(n_features)\n",
    "    \n",
    "    for index in subsample:\n",
    "        # будем проверять только уникальные значения признака, исключая повторения\n",
    "        t_values = np.unique([row[index] for row in data])\n",
    "        \n",
    "        for t in t_values:\n",
    "            true_data, false_data, true_labels, false_labels = split(data, labels, index, t)\n",
    "            #  пропускаем разбиения, в которых в узле остается менее min_leaf объекта\n",
    "            if len(true_data) < min_leaf or len(false_data) < min_leaf:\n",
    "                continue\n",
    "            \n",
    "            current_quality = quality(true_labels, false_labels, current_gini)\n",
    "            \n",
    "            #  выбираем порог, на котором получается максимальный прирост качества\n",
    "            if current_quality > best_quality:\n",
    "                best_quality, best_t, best_index = current_quality, t, index\n",
    "\n",
    "    return best_quality, best_t, best_index"
   ]
  },
  {
   "cell_type": "code",
   "execution_count": 14,
   "metadata": {},
   "outputs": [],
   "source": [
    "# Построение дерева с помощью рекурсивной функции\n",
    "\n",
    "def build_tree(data, labels):\n",
    "\n",
    "    quality, t, index = find_best_split(data, labels)\n",
    "\n",
    "    #  Базовый случай - прекращаем рекурсию, когда нет прироста в качества\n",
    "    if quality == 0:\n",
    "        return Leaf(data, labels)\n",
    "\n",
    "    true_data, false_data, true_labels, false_labels = split(data, labels, index, t)\n",
    "\n",
    "    # Рекурсивно строим два поддерева\n",
    "    true_branch = build_tree(true_data, true_labels)\n",
    "    false_branch = build_tree(false_data, false_labels)\n",
    "\n",
    "    # Возвращаем класс узла со всеми поддеревьями, то есть целого дерева\n",
    "    return Node(index, t, true_branch, false_branch)"
   ]
  },
  {
   "cell_type": "code",
   "execution_count": 15,
   "metadata": {},
   "outputs": [],
   "source": [
    "def random_forest(data, labels, n_trees):\n",
    "    forest = []\n",
    "    bootstrap = get_bootstrap(data, labels, n_trees)\n",
    "    \n",
    "    for b_data, b_labels, b_OOB in bootstrap:\n",
    "        forest.append((build_tree(b_data, b_labels), b_OOB))\n",
    "        \n",
    "    return forest"
   ]
  },
  {
   "cell_type": "code",
   "execution_count": 16,
   "metadata": {},
   "outputs": [],
   "source": [
    "# Функция классификации отдельного объекта\n",
    "\n",
    "def classify_object(obj, node):\n",
    "\n",
    "    #  Останавливаем рекурсию, если достигли листа\n",
    "    if isinstance(node, Leaf): \n",
    "        answer = node.prediction\n",
    "        return answer\n",
    "\n",
    "    if obj[node.index] <= node.t:\n",
    "        return classify_object(obj, node.true_branch)\n",
    "    else:\n",
    "        return classify_object(obj, node.false_branch)"
   ]
  },
  {
   "cell_type": "code",
   "execution_count": 17,
   "metadata": {},
   "outputs": [],
   "source": [
    "# функция формирования предсказания по выборке на одном дереве\n",
    "\n",
    "def predict(data, tree):\n",
    "    \n",
    "    classes = []\n",
    "    for obj in data:\n",
    "        prediction = classify_object(obj, tree)\n",
    "        classes.append(prediction)\n",
    "    return classes"
   ]
  },
  {
   "cell_type": "code",
   "execution_count": 18,
   "metadata": {},
   "outputs": [],
   "source": [
    "# предсказание голосованием деревьев\n",
    "\n",
    "def tree_vote(forest, data):\n",
    "\n",
    "    # добавим предсказания всех деревьев в список\n",
    "    predictions = []\n",
    "    for tree, b_oob in forest:\n",
    "            predictions.append(predict(data, tree))\n",
    "    \n",
    "    # сформируем список с предсказаниями для каждого объекта\n",
    "    predictions_per_object = list(zip(*predictions))\n",
    "    \n",
    "    # выберем в качестве итогового предсказания для каждого объекта то,\n",
    "    # за которое проголосовало большинство деревьев\n",
    "    voted_predictions = []\n",
    "    for obj in predictions_per_object:\n",
    "        voted_predictions.append(max(set(obj), key=obj.count))\n",
    "        \n",
    "    return voted_predictions"
   ]
  },
  {
   "cell_type": "code",
   "execution_count": 19,
   "metadata": {},
   "outputs": [],
   "source": [
    "# Введем функцию подсчета точности как доли правильных ответов\n",
    "\n",
    "def accuracy_metric(actual, predicted):\n",
    "    correct = 0\n",
    "    for i in range(len(actual)):\n",
    "        if actual[i] == predicted[i]:\n",
    "            correct += 1\n",
    "    return correct / float(len(actual)) * 100.0"
   ]
  },
  {
   "cell_type": "code",
   "execution_count": 20,
   "metadata": {},
   "outputs": [],
   "source": [
    "def OOB_error(forest, data, labels):\n",
    "    correct, OOB_count = 0, 0\n",
    "    n_samples = data.shape[0]\n",
    "    for i in range(n_samples):\n",
    "        predictions = []\n",
    "        for tree, OOB_inds in forest:\n",
    "            if i in OOB_inds:  # если объект не участвовал в обучении дерева\n",
    "                predictions.append(classify_object(data[i], tree))\n",
    "        \n",
    "        if len(predictions) > 0:  # если объект попал в общую Out-of-bag выборку\n",
    "            mean_pred = round(np.mean(predictions))\n",
    "            OOB_count += 1  # подсчитываем размер общей Out-of-bag выборки\n",
    "            if labels[i] == mean_pred:\n",
    "                correct += 1\n",
    "    \n",
    "    return correct / float(OOB_count) * 100.0, OOB_count"
   ]
  },
  {
   "cell_type": "code",
   "execution_count": 21,
   "metadata": {},
   "outputs": [
    {
     "data": {
      "text/plain": [
       "(100.0, 100.0)"
      ]
     },
     "execution_count": 21,
     "metadata": {},
     "output_type": "execute_result"
    }
   ],
   "source": [
    "# нормализуем данные\n",
    "c_train_data, m, s = centered(train_data)\n",
    "c_test_data = centered(test_data, means=m, std=s)[0]\n",
    "\n",
    "# моделируем по всем признакам\n",
    "forest = random_forest(c_train_data, train_labels, 25)\n",
    "train_answers = tree_vote(forest, c_train_data)\n",
    "test_answers = tree_vote(forest, c_test_data)\n",
    "train_accuracy = accuracy_metric(train_labels, train_answers)\n",
    "test_accuracy = accuracy_metric(test_labels, test_answers)\n",
    "train_accuracy, test_accuracy"
   ]
  },
  {
   "cell_type": "code",
   "execution_count": 22,
   "metadata": {},
   "outputs": [
    {
     "data": {
      "text/plain": [
       "(2,\n",
       " 99.04761904761905,\n",
       " 93.33333333333333,\n",
       " [0.7070102010784378, 0.24507686684025073])"
      ]
     },
     "execution_count": 22,
     "metadata": {},
     "output_type": "execute_result"
    }
   ],
   "source": [
    "# проводим PCA преобразование\n",
    "w, comps, props = PCA_SVD(c_train_data)\n",
    "z_train_data = c_train_data.dot(w)\n",
    "z_test_data = c_test_data.dot(w)\n",
    "\n",
    "forest = random_forest(z_train_data, train_labels, 25)\n",
    "z_train_answers = tree_vote(forest, z_train_data)\n",
    "z_test_answers = tree_vote(forest, z_test_data)\n",
    "z_train_accuracy = accuracy_metric(train_labels, z_train_answers)\n",
    "z_test_accuracy = accuracy_metric(test_labels, z_test_answers)\n",
    "comps, z_train_accuracy, z_test_accuracy, props"
   ]
  },
  {
   "cell_type": "markdown",
   "metadata": {},
   "source": [
    "Были использованы 2 главные компоненты. Результат, как и следовало ожидать, хуже, чем при использовании всех признаков, но ошибка довольно небольшая."
   ]
  },
  {
   "cell_type": "markdown",
   "metadata": {},
   "source": [
    "увеличим порог:"
   ]
  },
  {
   "cell_type": "code",
   "execution_count": 26,
   "metadata": {},
   "outputs": [
    {
     "data": {
      "text/plain": [
       "(3,\n",
       " 99.04761904761905,\n",
       " 97.77777777777777,\n",
       " [0.7070102010784378, 0.24507686684025073, 0.04266747371307099])"
      ]
     },
     "execution_count": 26,
     "metadata": {},
     "output_type": "execute_result"
    }
   ],
   "source": [
    "w, comps, props = PCA_SVD(c_train_data, limit=0.99)\n",
    "z_train_data = c_train_data.dot(w)\n",
    "z_test_data = c_test_data.dot(w)\n",
    "\n",
    "forest = random_forest(z_train_data, train_labels, 25)\n",
    "z_train_answers = tree_vote(forest, z_train_data)\n",
    "z_test_answers = tree_vote(forest, z_test_data)\n",
    "z_train_accuracy = accuracy_metric(train_labels, z_train_answers)\n",
    "z_test_accuracy = accuracy_metric(test_labels, z_test_answers)\n",
    "comps, z_train_accuracy, z_test_accuracy, props"
   ]
  },
  {
   "cell_type": "markdown",
   "metadata": {},
   "source": [
    "как и следовало ожидать, результат улучшился при добавлении 3й главной компоненты"
   ]
  },
  {
   "cell_type": "code",
   "execution_count": 27,
   "metadata": {},
   "outputs": [
    {
     "data": {
      "text/plain": [
       "(array([[0.53304806, 0.3257665 , 0.72928446],\n",
       "        [0.20275174, 0.9445977 , 0.22610134],\n",
       "        [0.58987494, 0.00785636, 0.12221793],\n",
       "        [0.5716634 , 0.03936564, 0.63410184]]),\n",
       " array([0.48782498, 0.38449377, 0.42418774, 0.44087499]))"
      ]
     },
     "execution_count": 27,
     "metadata": {},
     "output_type": "execute_result"
    }
   ],
   "source": [
    "abs(w), abs(w) @ props[:comps]  # для проверки по задаче №1"
   ]
  },
  {
   "cell_type": "markdown",
   "metadata": {},
   "source": [
    "По списку общих вкладов видно, что второй признак имеет наименьший вклад в главные компоненты (в особенности в первую), т.е. его можно исключить. Проверяем:"
   ]
  },
  {
   "cell_type": "code",
   "execution_count": 33,
   "metadata": {},
   "outputs": [
    {
     "data": {
      "text/plain": [
       "(99.04761904761905, 100.0)"
      ]
     },
     "execution_count": 33,
     "metadata": {},
     "output_type": "execute_result"
    }
   ],
   "source": [
    "new_train = np.hstack((train_data[:, 0:1:], train_data[:, 2::]))\n",
    "new_test = np.hstack((test_data[:, 0:1:], test_data[:, 2::]))\n",
    "\n",
    "c_train_data, m, s = centered(new_train)\n",
    "c_test_data = centered(new_test, means=m, std=s)[0]\n",
    "\n",
    "forest = random_forest(c_train_data, train_labels, 25)\n",
    "train_answers = tree_vote(forest, c_train_data)\n",
    "test_answers = tree_vote(forest, c_test_data)\n",
    "train_accuracy = accuracy_metric(train_labels, train_answers)\n",
    "test_accuracy = accuracy_metric(test_labels, test_answers)\n",
    "train_accuracy, test_accuracy"
   ]
  },
  {
   "cell_type": "markdown",
   "metadata": {},
   "source": [
    "результат практически не изменился, по сравнению с первоначальным моделированием"
   ]
  },
  {
   "cell_type": "markdown",
   "metadata": {},
   "source": [
    "При этом нельзя сказать, что первый признак является наиболее важным - смоделируем только на нём, а затем на 3м и 4м для сравнения:"
   ]
  },
  {
   "cell_type": "code",
   "execution_count": 34,
   "metadata": {},
   "outputs": [
    {
     "data": {
      "text/plain": [
       "(77.14285714285715, 71.11111111111111)"
      ]
     },
     "execution_count": 34,
     "metadata": {},
     "output_type": "execute_result"
    }
   ],
   "source": [
    "new_train = train_data[:, :1:]\n",
    "new_test = test_data[:, :1:]\n",
    "\n",
    "c_train_data, m, s = centered(new_train)\n",
    "c_test_data = centered(new_test, means=m, std=s)[0]\n",
    "\n",
    "forest = random_forest(c_train_data, train_labels, 25)\n",
    "train_answers = tree_vote(forest, c_train_data)\n",
    "test_answers = tree_vote(forest, c_test_data)\n",
    "train_accuracy = accuracy_metric(train_labels, train_answers)\n",
    "test_accuracy = accuracy_metric(test_labels, test_answers)\n",
    "train_accuracy, test_accuracy"
   ]
  },
  {
   "cell_type": "code",
   "execution_count": 35,
   "metadata": {},
   "outputs": [
    {
     "data": {
      "text/plain": [
       "(60.952380952380956, 51.11111111111111)"
      ]
     },
     "execution_count": 35,
     "metadata": {},
     "output_type": "execute_result"
    }
   ],
   "source": [
    "new_train = train_data[:, 1:2:]\n",
    "new_test = test_data[:, 1:2:]\n",
    "\n",
    "c_train_data, m, s = centered(new_train)\n",
    "c_test_data = centered(new_test, means=m, std=s)[0]\n",
    "\n",
    "forest = random_forest(c_train_data, train_labels, 25)\n",
    "train_answers = tree_vote(forest, c_train_data)\n",
    "test_answers = tree_vote(forest, c_test_data)\n",
    "train_accuracy = accuracy_metric(train_labels, train_answers)\n",
    "test_accuracy = accuracy_metric(test_labels, test_answers)\n",
    "train_accuracy, test_accuracy"
   ]
  },
  {
   "cell_type": "markdown",
   "metadata": {},
   "source": [
    "При обучении на втором признаке результат наихудший."
   ]
  },
  {
   "cell_type": "code",
   "execution_count": 56,
   "metadata": {},
   "outputs": [
    {
     "data": {
      "text/plain": [
       "(94.28571428571428, 95.55555555555556)"
      ]
     },
     "execution_count": 56,
     "metadata": {},
     "output_type": "execute_result"
    }
   ],
   "source": [
    "new_train = train_data[:, 2:3:]\n",
    "new_test = test_data[:, 2:3:]\n",
    "\n",
    "c_train_data, m, s = centered(new_train)\n",
    "c_test_data = centered(new_test, means=m, std=s)[0]\n",
    "\n",
    "forest = random_forest(c_train_data, train_labels, 25)\n",
    "train_answers = tree_vote(forest, c_train_data)\n",
    "test_answers = tree_vote(forest, c_test_data)\n",
    "train_accuracy = accuracy_metric(train_labels, train_answers)\n",
    "test_accuracy = accuracy_metric(test_labels, test_answers)\n",
    "train_accuracy, test_accuracy"
   ]
  },
  {
   "cell_type": "code",
   "execution_count": 55,
   "metadata": {},
   "outputs": [
    {
     "data": {
      "text/plain": [
       "(94.28571428571428, 95.55555555555556)"
      ]
     },
     "execution_count": 55,
     "metadata": {},
     "output_type": "execute_result"
    }
   ],
   "source": [
    "new_train = train_data[:, 3::]\n",
    "new_test = test_data[:, 3::]\n",
    "\n",
    "c_train_data, m, s = centered(new_train)\n",
    "c_test_data = centered(new_test, means=m, std=s)[0]\n",
    "\n",
    "forest = random_forest(c_train_data, train_labels, 25)\n",
    "train_answers = tree_vote(forest, c_train_data)\n",
    "test_answers = tree_vote(forest, c_test_data)\n",
    "train_accuracy = accuracy_metric(train_labels, train_answers)\n",
    "test_accuracy = accuracy_metric(test_labels, test_answers)\n",
    "train_accuracy, test_accuracy"
   ]
  },
  {
   "cell_type": "markdown",
   "metadata": {},
   "source": [
    "Видно, что классификацию можно осуществлять только на 3м или 4м признаках, при этом на 1м результат заметно ухудшился."
   ]
  },
  {
   "cell_type": "markdown",
   "metadata": {},
   "source": [
    "При использовании 3 и 4 признаков результат уже схож с первым результатом (с использованием всех признаков)"
   ]
  },
  {
   "cell_type": "code",
   "execution_count": 49,
   "metadata": {},
   "outputs": [
    {
     "data": {
      "text/plain": [
       "(99.04761904761905, 100.0)"
      ]
     },
     "execution_count": 49,
     "metadata": {},
     "output_type": "execute_result"
    }
   ],
   "source": [
    "new_train = train_data[:, 2::]\n",
    "new_test = test_data[:, 2::]\n",
    "\n",
    "c_train_data, m, s = centered(new_train)\n",
    "c_test_data = centered(new_test, means=m, std=s)[0]\n",
    "\n",
    "forest = random_forest(c_train_data, train_labels, 25)\n",
    "train_answers = tree_vote(forest, c_train_data)\n",
    "test_answers = tree_vote(forest, c_test_data)\n",
    "train_accuracy = accuracy_metric(train_labels, train_answers)\n",
    "test_accuracy = accuracy_metric(test_labels, test_answers)\n",
    "train_accuracy, test_accuracy"
   ]
  },
  {
   "cell_type": "markdown",
   "metadata": {},
   "source": [
    "Если анализировать вклад признаков только для первой главной компоненты, то в данном случае сразу можно определить, как имеющие наибольшую значимость, 3 и 4 признаки, близкий к ним 1й признак, и не вносимый существенного вклада - 2й признак (что совпадает с результатами тестирования). Но на основании этого анализа нельзя однозначно утверждать, что 1й признак можно не использовать в моделировании, как и 2й."
   ]
  },
  {
   "cell_type": "markdown",
   "metadata": {},
   "source": [
    "Смыслы признаков (длина/ширина): 1 и 2 относятся к чашелистику, 3, 4 - к лепесткам. Графики демонстрируют ситуацию с выбором 3 и 4 признака, как достаточных для классификации:"
   ]
  },
  {
   "cell_type": "code",
   "execution_count": 53,
   "metadata": {},
   "outputs": [
    {
     "data": {
      "image/png": "[encoded data removed]",
      "text/plain": [
       "<Figure size 504x504 with 1 Axes>"
      ]
     },
     "metadata": {
      "needs_background": "light"
     },
     "output_type": "display_data"
    }
   ],
   "source": [
    "from matplotlib.colors import ListedColormap\n",
    "import matplotlib.pyplot as plt\n",
    "\n",
    "cmap = ListedColormap(['red', 'green', 'blue'])\n",
    "plt.figure(figsize=(7, 7))\n",
    "plt.scatter(X[:, 0], X[:, 1], c=y, cmap=cmap);"
   ]
  },
  {
   "cell_type": "code",
   "execution_count": 54,
   "metadata": {},
   "outputs": [
    {
     "data": {
      "image/png": "[encoded data removed]",
      "text/plain": [
       "<Figure size 504x504 with 1 Axes>"
      ]
     },
     "metadata": {
      "needs_background": "light"
     },
     "output_type": "display_data"
    }
   ],
   "source": [
    "cmap = ListedColormap(['red', 'green', 'blue'])\n",
    "plt.figure(figsize=(7, 7))\n",
    "plt.scatter(X[:, 2], X[:, 3], c=y, cmap=cmap);"
   ]
  },
  {
   "cell_type": "code",
   "execution_count": null,
   "metadata": {},
   "outputs": [],
   "source": []
  }
 ],
 "metadata": {
  "kernelspec": {
   "display_name": "Python 3",
   "language": "python",
   "name": "python3"
  },
  "language_info": {
   "codemirror_mode": {
    "name": "ipython",
    "version": 3
   },
   "file_extension": ".py",
   "mimetype": "text/x-python",
   "name": "python",
   "nbconvert_exporter": "python",
   "pygments_lexer": "ipython3",
   "version": "3.7.3"
  }
 },
 "nbformat": 4,
 "nbformat_minor": 2
}
