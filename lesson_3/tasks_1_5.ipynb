{
 "cells": [
  {
   "cell_type": "markdown",
   "metadata": {},
   "source": [
    "1. Измените функцию `calc_logloss` так, чтобы нули по возможности не попадали в `np.log` (как вариант - использовать `np.clip` или `np.where`).  \n",
    "2. На данных из урока изучите влияние гиперпараметров на ошибку алгоритма. \n",
    "3. Создайте функцию `calc_pred_proba`, возвращающую предсказанную вероятность класса \"1\". На вход функции подаются значения признаков Х и веса, которые уже посчитаны функцией `eval_LR_model`.\n",
    "4. Создайте функцию `calc_pred`, возвращающую предсказанные классы (0 или 1). На вход функции подаются значения признаков Х и веса, которые уже посчитаны функцией `eval_LR_model`, а также порог вероятности.\n",
    "5. (\\*) Напишите функции для расчета accuracy, матрицы ошибок, precision и recall, а также F1-score."
   ]
  },
  {
   "cell_type": "code",
   "execution_count": 1,
   "metadata": {},
   "outputs": [],
   "source": [
    "import numpy as np\n",
    "import matplotlib.pyplot as plt"
   ]
  },
  {
   "cell_type": "code",
   "execution_count": 2,
   "metadata": {},
   "outputs": [],
   "source": [
    "%matplotlib inline\n",
    "plt.style.use('seaborn-ticks')\n",
    "plt.rcParams.update({'font.size': 14})"
   ]
  },
  {
   "cell_type": "code",
   "execution_count": 3,
   "metadata": {},
   "outputs": [],
   "source": [
    "def sigmoid(z):\n",
    "    return 1 / (1 + np.exp(-z))"
   ]
  },
  {
   "cell_type": "markdown",
   "metadata": {},
   "source": [
    "**задача №1**"
   ]
  },
  {
   "cell_type": "code",
   "execution_count": 4,
   "metadata": {},
   "outputs": [],
   "source": [
    "def calc_logloss(y, p, e=1e-16):\n",
    "    p = np.clip(p, e, 1 - e)  # избавляемся от р равных 0 или 1\n",
    "    err = np.mean(- y * np.log(p) - (1.0 - y) * np.log(1.0 - p))\n",
    "    return err"
   ]
  },
  {
   "cell_type": "code",
   "execution_count": 5,
   "metadata": {},
   "outputs": [],
   "source": [
    "# логистическая регрессия\n",
    "def eval_LR_model(X, y, iterations, eta=1e-4, debug=False):\n",
    "    np.random.seed(42)\n",
    "    w = np.random.randn(X.shape[1])\n",
    "    n = X.shape[0]\n",
    "    for i in range(1, iterations + 1):\n",
    "        z = np.dot(X, w) # log(p/(1-p))\n",
    "        pred = sigmoid(z) # p [0, 1]\n",
    "        w -= eta * (1/n * np.dot((pred - y), X))\n",
    "        err = calc_logloss(y, sigmoid(np.dot(X, w)))\n",
    "        if debug and i % (iterations / 10) == 0:\n",
    "            print(i, w, err)\n",
    "    return w, err"
   ]
  },
  {
   "cell_type": "markdown",
   "metadata": {},
   "source": [
    "**задача №3**"
   ]
  },
  {
   "cell_type": "code",
   "execution_count": 6,
   "metadata": {},
   "outputs": [],
   "source": [
    "def calc_pred_proba(X, w):\n",
    "    return sigmoid(np.dot(X, w))"
   ]
  },
  {
   "cell_type": "markdown",
   "metadata": {},
   "source": [
    "**задача №4**"
   ]
  },
  {
   "cell_type": "code",
   "execution_count": 7,
   "metadata": {},
   "outputs": [],
   "source": [
    "def calc_pred(X, w, t=0.5):\n",
    "    return np.where(calc_pred_proba(X, w) > t, 1, 0)"
   ]
  },
  {
   "cell_type": "markdown",
   "metadata": {},
   "source": [
    "**задача №5**"
   ]
  },
  {
   "cell_type": "code",
   "execution_count": 8,
   "metadata": {},
   "outputs": [],
   "source": [
    "def accuracy(pred, y):\n",
    "    assert len(pred) == len(y)\n",
    "    return (np.sum(pred == y)) / len(pred)\n",
    "\n",
    "\n",
    "def error_matrix(pred, y):\n",
    "    assert len(pred) == len(y)\n",
    "    \n",
    "    err_matrix = [[0, 0], [0, 0]]\n",
    "    \n",
    "    for i in range(len(y)):\n",
    "        if pred[i] == 1:\n",
    "            if y[i] == 1:\n",
    "                err_matrix[0][0] += 1  # TP\n",
    "            else:\n",
    "                err_matrix[0][1] += 1  # FP\n",
    "        else:\n",
    "            if y[i] == 1:\n",
    "                err_matrix[1][0] += 1  # FN\n",
    "            else:\n",
    "                err_matrix[1][1] += 1  # TN\n",
    "    \n",
    "    # красивее, но требуется больше вычислений и ресурсов\n",
    "    #TP = np.sum(np.where(((y == 1) & (pred == 1)), 1, 0))\n",
    "    #FP = np.sum(np.where(((y == 0) & (pred == 1)), 1, 0))\n",
    "    #FN = np.sum(np.where(((y == 1) & (pred == 0)), 1, 0))\n",
    "    #TN = np.sum(np.where(((y == 0) & (pred == 0)), 1, 0))\n",
    "    \n",
    "    return err_matrix  #, TP, FP, FN, TN\n",
    "\n",
    "\n",
    "def precision(pred, y):\n",
    "    err_matrix = error_matrix(pred, y)\n",
    "    return err_matrix[0][0] / (err_matrix[0][0] + err_matrix[0][1])  #precision = (TP)/(TP+FP)\n",
    "\n",
    "\n",
    "def recall(pred, y):\n",
    "    err_matrix = error_matrix(pred, y)\n",
    "    return err_matrix[0][0] / (err_matrix[0][0] + err_matrix[1][0])  #recall = (TP)/(TP+FN)\n",
    "\n",
    "\n",
    "def f1_score(pred, y):\n",
    "    pr = precision(pred, y)\n",
    "    rc = recall(pred, y)\n",
    "    return (2. * pr * rc) / (pr + rc)  #f1 = 2*(( precision * recall_score)/( precision + recall_score))"
   ]
  },
  {
   "cell_type": "code",
   "execution_count": 9,
   "metadata": {},
   "outputs": [],
   "source": [
    "X = np.array([[1, 1, 1, 1, 1, 1, 1, 1, 1, 1],\n",
    "              [1, 1, 2, 1, 3, 0, 5, 10, 1, 2],  # стаж репетитора\n",
    "              [500, 700, 750, 600, 1450,        # средняя стоимость занятия\n",
    "               800, 1500, 2000, 450, 1000],\n",
    "              [21, 25, 27, 20, 25, 18, 35, 60, 20, 30]],  # возраст репетитора\n",
    "              dtype = np.float64).T \n",
    "\n",
    "y = np.array([0, 0, 0, 1, 1, 1, 1, 0, 0, 0]) # подходит или нет репетитор"
   ]
  },
  {
   "cell_type": "code",
   "execution_count": 10,
   "metadata": {},
   "outputs": [],
   "source": [
    "def standardization(X):\n",
    "    S = (X - X.mean(axis=0)) / X.std(axis=0)\n",
    "    return S\n",
    "\n",
    "X_st = X.copy()\n",
    "X_st[:, 1:] = standardization(X[:, 1:])"
   ]
  },
  {
   "cell_type": "code",
   "execution_count": 11,
   "metadata": {},
   "outputs": [
    {
     "name": "stdout",
     "output_type": "stream",
     "text": [
      "10 [ 0.36065583 -0.3972585   0.51937535  1.19161524] 0.972199021173242\n",
      "20 [ 0.215788   -0.61251766  0.44159174  0.90102578] 0.8152129340815597\n",
      "30 [ 0.08277136 -0.76559453  0.42551123  0.67107078] 0.7212678942568461\n",
      "40 [-0.02507329 -0.85541749  0.46585326  0.50463174] 0.6722796074198796\n",
      "50 [-0.10912684 -0.90576455  0.53830407  0.37884616] 0.6416699927595096\n",
      "60 [-0.17469927 -0.93640342  0.62421319  0.27424279] 0.6181685428656378\n",
      "70 [-0.22617113 -0.95733883  0.71436092  0.18090474] 0.5982903907109157\n",
      "80 [-0.26681997 -0.97319728  0.80460517  0.09421158] 0.5807656397146188\n",
      "90 [-0.29911987 -0.98614533  0.89312045  0.01196478] 0.5649873364632753\n",
      "100 [-0.32495521 -0.99723356  0.97913034 -0.06693668] 0.5506011060815837\n"
     ]
    }
   ],
   "source": [
    "w, err = eval_LR_model(X_st, y, iterations=100, eta=0.1, debug=True)"
   ]
  },
  {
   "cell_type": "code",
   "execution_count": 12,
   "metadata": {},
   "outputs": [
    {
     "name": "stdout",
     "output_type": "stream",
     "text": [
      "prob = [0.34 0.43 0.36 0.39 0.62 0.58 0.46 0.25 0.32 0.48]\n",
      "true = [0 0 0 1 1 1 1 0 0 0]\n",
      "pred = [0 0 0 0 1 1 0 0 0 0]\n"
     ]
    }
   ],
   "source": [
    "pred = calc_pred(X_st, w)\n",
    "print('prob =', calc_pred_proba(X_st, w).round(2))\n",
    "print('true =', y)\n",
    "print('pred =', pred)"
   ]
  },
  {
   "cell_type": "code",
   "execution_count": 13,
   "metadata": {},
   "outputs": [
    {
     "data": {
      "text/plain": [
       "0.8"
      ]
     },
     "execution_count": 13,
     "metadata": {},
     "output_type": "execute_result"
    }
   ],
   "source": [
    "accuracy(pred, y)"
   ]
  },
  {
   "cell_type": "code",
   "execution_count": 14,
   "metadata": {},
   "outputs": [
    {
     "data": {
      "text/plain": [
       "[[2, 0], [2, 6]]"
      ]
     },
     "execution_count": 14,
     "metadata": {},
     "output_type": "execute_result"
    }
   ],
   "source": [
    "error_matrix(pred, y)"
   ]
  },
  {
   "cell_type": "code",
   "execution_count": 15,
   "metadata": {},
   "outputs": [
    {
     "data": {
      "text/plain": [
       "1.0"
      ]
     },
     "execution_count": 15,
     "metadata": {},
     "output_type": "execute_result"
    }
   ],
   "source": [
    "precision(pred, y)"
   ]
  },
  {
   "cell_type": "code",
   "execution_count": 16,
   "metadata": {},
   "outputs": [
    {
     "data": {
      "text/plain": [
       "0.5"
      ]
     },
     "execution_count": 16,
     "metadata": {},
     "output_type": "execute_result"
    }
   ],
   "source": [
    "recall(pred, y)"
   ]
  },
  {
   "cell_type": "code",
   "execution_count": 17,
   "metadata": {},
   "outputs": [
    {
     "data": {
      "text/plain": [
       "0.6666666666666666"
      ]
     },
     "execution_count": 17,
     "metadata": {},
     "output_type": "execute_result"
    }
   ],
   "source": [
    "f1_score(pred, y)"
   ]
  },
  {
   "cell_type": "markdown",
   "metadata": {},
   "source": [
    "**задача №2**\n",
    "\n",
    "фиксируем кол-во итераций и анализируем влияние $\\eta$ на ошибку"
   ]
  },
  {
   "cell_type": "code",
   "execution_count": 18,
   "metadata": {},
   "outputs": [
    {
     "name": "stderr",
     "output_type": "stream",
     "text": [
      "C:\\Work\\Anaconda\\lib\\site-packages\\ipykernel_launcher.py:2: RuntimeWarning: overflow encountered in exp\n",
      "  \n"
     ]
    }
   ],
   "source": [
    "etas = np.logspace(-5, 3, 20)\n",
    "examples = [[eval_LR_model(X_st, y, iterations=iters, eta=_eta)[1] for _eta in etas] for iters in (100, 200, 500)]"
   ]
  },
  {
   "cell_type": "code",
   "execution_count": 19,
   "metadata": {},
   "outputs": [
    {
     "data": {
      "image/png": "[encoded data removed]",
      "text/plain": [
       "<Figure size 432x288 with 1 Axes>"
      ]
     },
     "metadata": {},
     "output_type": "display_data"
    }
   ],
   "source": [
    "plt.plot(etas, examples[0], 'r', label='100 iters')\n",
    "plt.plot(etas, examples[1], 'g', label='200 iters')\n",
    "plt.plot(etas, examples[2], 'b', label='500 iters')\n",
    "plt.xscale('log')\n",
    "plt.xlabel(r'$\\eta$')\n",
    "plt.ylabel('err')\n",
    "plt.grid()\n",
    "plt.legend();"
   ]
  },
  {
   "cell_type": "markdown",
   "metadata": {},
   "source": [
    "**Выводы:** чем больше $\\eta$, тем меньше итераций необходимо для достижения минимальной ошибки. Также при большем количестве итераций достигается меньшая ошибка."
   ]
  },
  {
   "cell_type": "code",
   "execution_count": 20,
   "metadata": {},
   "outputs": [
    {
     "name": "stdout",
     "output_type": "stream",
     "text": [
      "1 [-12.2462847  -27.67474989 -14.23020126 -33.111856  ] 15.55213652010897\n",
      "2 [-31.92199391   1.54147351  37.1766538  -13.34215841] 8.667869973155536\n",
      "3 [-20.49306403 -38.66416413   6.24236592 -55.26099863] 11.682770485259807\n",
      "4 [-30.54413726 -11.52844912  53.11018982 -36.38621833] 4.884710688608184\n",
      "5 [ -0.67632048 -18.06175687  52.45842391 -46.10114081] 0.05165190654901323\n",
      "6 [  0.40646806 -19.29201562  50.20778815 -48.31260725] 0.041829261593370456\n",
      "7 [ -3.01678764 -18.51603518  50.10046006 -48.82702883] 0.008772211797026298\n",
      "8 [ -2.42065681 -18.88135118  49.56217957 -49.32852707] 0.004127344088153626\n",
      "9 [ -2.4672306  -18.89644754  49.46398595 -49.45368939] 0.003874473117702437\n",
      "10 [ -2.51201649 -18.89811439  49.38811519 -49.55995971] 0.0036993321854787544\n"
     ]
    }
   ],
   "source": [
    "w, err = eval_LR_model(X_st, y, iterations=10, eta=100, debug=True)"
   ]
  },
  {
   "cell_type": "markdown",
   "metadata": {},
   "source": [
    "При $\\eta = 100$ алгоритм достиг минимальной ошибки уже за первые 10 итераций"
   ]
  },
  {
   "cell_type": "code",
   "execution_count": 21,
   "metadata": {},
   "outputs": [
    {
     "name": "stdout",
     "output_type": "stream",
     "text": [
      "prob = [0.   0.   0.   0.99 1.   1.   1.   0.   0.   0.02]\n",
      "true = [0 0 0 1 1 1 1 0 0 0]\n",
      "pred = [0 0 0 1 1 1 1 0 0 0]\n"
     ]
    }
   ],
   "source": [
    "pred = calc_pred(X_st, w)\n",
    "print('prob =', calc_pred_proba(X_st, w).round(2))\n",
    "print('true =', y)\n",
    "print('pred =', pred)"
   ]
  },
  {
   "cell_type": "code",
   "execution_count": 22,
   "metadata": {},
   "outputs": [
    {
     "data": {
      "text/plain": [
       "(1.1102230246251565e-16, 36.7368005696771)"
      ]
     },
     "execution_count": 22,
     "metadata": {},
     "output_type": "execute_result"
    }
   ],
   "source": [
    "# тест для p = 0 или 1\n",
    "calc_logloss(0, 0), calc_logloss(0, 1)"
   ]
  },
  {
   "cell_type": "code",
   "execution_count": null,
   "metadata": {},
   "outputs": [],
   "source": []
  }
 ],
 "metadata": {
  "kernelspec": {
   "display_name": "Python 3",
   "language": "python",
   "name": "python3"
  },
  "language_info": {
   "codemirror_mode": {
    "name": "ipython",
    "version": 3
   },
   "file_extension": ".py",
   "mimetype": "text/x-python",
   "name": "python",
   "nbconvert_exporter": "python",
   "pygments_lexer": "ipython3",
   "version": "3.7.3"
  }
 },
 "nbformat": 4,
 "nbformat_minor": 2
}
