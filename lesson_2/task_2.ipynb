{
 "cells": [
  {
   "cell_type": "markdown",
   "metadata": {},
   "source": [
    "2. [\\*] Добавить в алгоритм градиентного спуска L1 регуляризацию. Сравнить влияние коэффициентов регуляризации L1 и L2 на величину весов для примера из урока (лучше графически). "
   ]
  },
  {
   "cell_type": "code",
   "execution_count": 1,
   "metadata": {},
   "outputs": [],
   "source": [
    "import warnings\n",
    "warnings.filterwarnings('ignore')\n",
    "\n",
    "import numpy as np\n",
    "import matplotlib.pyplot as plt"
   ]
  },
  {
   "cell_type": "code",
   "execution_count": 2,
   "metadata": {},
   "outputs": [],
   "source": [
    "# К признаку стажа добавим новые признаки\n",
    "X = np.array([[1, 1, 1, 1, 1, 1, 1, 1, 1, 1],\n",
    "              [1, 1, 2, 1, 3, 0, 5, 10, 1, 2],  # стаж репетитора\n",
    "              [500, 700, 750, 600, 1450,        # средняя стоимость занятия\n",
    "               800, 1500, 2000, 450, 1000],\n",
    "              [21, 25, 27, 20, 25, 18, 35, 60, 20, 30]]).T  # возраст репетитора\n",
    "               \n",
    "y = [45, 55, 50, 59, 65, 35, 75, 80, 50, 60]    # средний балл ЕГЭ (целевая переменная)"
   ]
  },
  {
   "cell_type": "code",
   "execution_count": 3,
   "metadata": {},
   "outputs": [],
   "source": [
    "def calc_mse(y, y_pred):\n",
    "    err = np.mean((y - y_pred)**2)\n",
    "    return err"
   ]
  },
  {
   "cell_type": "code",
   "execution_count": 4,
   "metadata": {},
   "outputs": [],
   "source": [
    "def standardization(x: np.ndarray) -> np.ndarray:\n",
    "    '''Функция принимает и возвращает одномерный массив'''\n",
    "    s = (x - x.mean()) / x.std()\n",
    "    return s"
   ]
  },
  {
   "cell_type": "code",
   "execution_count": 5,
   "metadata": {},
   "outputs": [],
   "source": [
    "X_st = X.copy().astype(np.float64)\n",
    "X_st[:, 1] = standardization(X[:, 1])\n",
    "X_st[:, 2] = standardization(X[:, 2])\n",
    "X_st[:, 3] = standardization(X[:, 3])"
   ]
  },
  {
   "cell_type": "code",
   "execution_count": 6,
   "metadata": {},
   "outputs": [],
   "source": [
    "def eval_model_reg2(X, y, iterations, eta=1e-4, lambda_=1e-8, verbose=False):\n",
    "    np.random.seed(42)\n",
    "    w = np.random.randn(X.shape[1])\n",
    "    n = X.shape[0]\n",
    "    for i in range(1, iterations + 1):\n",
    "        y_pred = np.dot(X, w)\n",
    "        err = calc_mse(y, y_pred)\n",
    "        w -= eta * (1/n * 2 * np.dot(X.T, (y_pred - y)) + 2 * lambda_ * w)\n",
    "        if verbose and i % (iterations / 10) == 0:\n",
    "            print(f'{i}: weights={w}, MSE={err:.3f}')\n",
    "    return w"
   ]
  },
  {
   "cell_type": "code",
   "execution_count": 7,
   "metadata": {},
   "outputs": [],
   "source": [
    "def eval_model_reg1(X, y, iterations, eta=1e-4, lambda_=1e-8, verbose=False):\n",
    "    np.random.seed(42)\n",
    "    w = np.random.randn(X.shape[1])\n",
    "    n = X.shape[0]\n",
    "    for i in range(1, iterations + 1):\n",
    "        y_pred = np.dot(X, w)\n",
    "        err = calc_mse(y, y_pred)\n",
    "        w -= eta * (1/n * 2 * np.dot(X.T, (y_pred - y)) + lambda_ * np.sign(w))\n",
    "        if verbose and i % (iterations / 10) == 0:\n",
    "            print(f'{i}: weights={w}, MSE={err:.3f}')\n",
    "    return w"
   ]
  },
  {
   "cell_type": "code",
   "execution_count": 8,
   "metadata": {},
   "outputs": [
    {
     "name": "stdout",
     "output_type": "stream",
     "text": [
      "100: weights=[49.81914355  3.29277825  4.1534082   3.82695431], MSE=105.956\n",
      "200: weights=[56.34692648  3.6230585   4.50003522  3.18139557], MSE=46.634\n",
      "300: weights=[57.21087318  3.96172325  4.71963255  2.62328769], MSE=45.040\n",
      "400: weights=[57.32521582  4.3088742   4.85479756  2.13860328], MSE=44.632\n",
      "500: weights=[57.34034897  4.65799669  4.92984778  1.71039568], MSE=44.316\n",
      "600: weights=[57.34235183  5.00452731  4.96232406  1.32624324], MSE=44.044\n",
      "700: weights=[57.34261691  5.3453282   4.9648835   0.97702491], MSE=43.803\n",
      "800: weights=[57.34265199  5.67828649  4.9466501   0.65601395], MSE=43.585\n",
      "900: weights=[57.34265663  6.00202473  4.91419228  0.3582217 ], MSE=43.387\n",
      "1000: weights=[57.34265725  6.31569147  4.87223017  0.0799224 ], MSE=43.206\n"
     ]
    }
   ],
   "source": [
    "w = eval_model_reg2(X_st, y, iterations=1000, eta=1e-2, lambda_=0.001, verbose=True)"
   ]
  },
  {
   "cell_type": "code",
   "execution_count": 9,
   "metadata": {},
   "outputs": [
    {
     "name": "stdout",
     "output_type": "stream",
     "text": [
      "100: weights=[49.85307781  3.29262574  4.15499018  3.82895914], MSE=105.438\n",
      "200: weights=[56.39869684  3.62231436  4.50273797  3.18298086], MSE=46.526\n",
      "300: weights=[57.26677393  3.96113778  4.72359051  2.62349079], MSE=45.021\n",
      "400: weights=[57.38189793  4.30923324  4.85990642  2.13672579], MSE=44.625\n",
      "500: weights=[57.39716562  4.6600654   4.93586676  1.70589338], MSE=44.310\n",
      "600: weights=[57.39919042  5.00903109  4.96895211  1.31867098], MSE=44.036\n",
      "700: weights=[57.39945894  5.35294267  4.97180473  0.96600263], MSE=43.793\n",
      "800: weights=[57.39949456  5.68963321  4.95355938  0.64120613], MSE=43.574\n",
      "900: weights=[57.39949928  6.01767043  4.92080843  0.33932531], MSE=43.374\n",
      "1000: weights=[5.73994999e+01 6.33614929e+00 4.87830172e+00 5.66600115e-02], MSE=43.191\n"
     ]
    }
   ],
   "source": [
    "w = eval_model_reg1(X_st, y, iterations=1000, eta=1e-2, lambda_=0.001, verbose=True)"
   ]
  },
  {
   "cell_type": "code",
   "execution_count": 10,
   "metadata": {},
   "outputs": [],
   "source": [
    "def regularization(X, y, l_list, reg_func=eval_model_reg2):\n",
    "    w_list = []\n",
    "    error_list = []\n",
    "\n",
    "    for l in l_list:\n",
    "        w_new = reg_func(X, y, iterations=1000, eta=1e-2, lambda_=l)\n",
    "        w_list.append(w_new)\n",
    "        error_list.append(calc_mse(y, np.dot(X, w_new)))\n",
    "    \n",
    "    return (np.array(w_list), np.array(error_list))"
   ]
  },
  {
   "cell_type": "code",
   "execution_count": 11,
   "metadata": {},
   "outputs": [],
   "source": [
    "l_list = np.logspace(start=-4, stop=1, num=20)\n",
    "weights_r2, errors_r2 = regularization(X_st, y, l_list)\n",
    "weights_r1, errors_r1 = regularization(X_st, y, l_list, eval_model_reg1)"
   ]
  },
  {
   "cell_type": "code",
   "execution_count": 12,
   "metadata": {},
   "outputs": [
    {
     "data": {
      "image/png": "[encoded data removed]",
      "text/plain": [
       "<Figure size 864x288 with 2 Axes>"
      ]
     },
     "metadata": {
      "needs_background": "light"
     },
     "output_type": "display_data"
    }
   ],
   "source": [
    "fig = plt.figure(figsize=(12, 4))\n",
    "\n",
    "plt.subplot(1, 2, 1)\n",
    "plt.xscale('log')\n",
    "plt.plot(l_list, weights_r2[:, 1], 'go-', label=r'$w_1$')\n",
    "plt.plot(l_list, weights_r2[:, 2], 'ro-', label=r'$w_2$')\n",
    "plt.plot(l_list, weights_r2[:, 3], 'bo-', label=r'$w_3$')\n",
    "plt.xlabel('Коэффициент L2 регуляризации')\n",
    "plt.ylabel('Веса')\n",
    "plt.grid()\n",
    "plt.legend();\n",
    "\n",
    "plt.subplot(1, 2, 2)\n",
    "plt.xscale('log')\n",
    "plt.plot(l_list, weights_r1[:, 1], 'go-', label=r'$w_1$')\n",
    "plt.plot(l_list, weights_r1[:, 2], 'ro-', label=r'$w_2$')\n",
    "plt.plot(l_list, weights_r1[:, 3], 'bo-', label=r'$w_3$')\n",
    "plt.xlabel('Коэффициент L1 регуляризации')\n",
    "plt.ylabel('Веса')\n",
    "plt.grid()\n",
    "plt.legend();"
   ]
  },
  {
   "cell_type": "markdown",
   "metadata": {},
   "source": [
    "При L1 регуляризации вес для признака 3 устанавливается в 0 при любом коэффициенте (селекция ненужных признаков)"
   ]
  },
  {
   "cell_type": "code",
   "execution_count": 23,
   "metadata": {},
   "outputs": [
    {
     "data": {
      "image/png": "[encoded data removed]",
      "text/plain": [
       "<Figure size 864x288 with 1 Axes>"
      ]
     },
     "metadata": {
      "needs_background": "light"
     },
     "output_type": "display_data"
    }
   ],
   "source": [
    "fig = plt.figure(figsize=(12, 4))\n",
    "\n",
    "plt.xscale('log')\n",
    "plt.plot(l_list, errors_r2, 'bo-', label='L2')\n",
    "plt.plot(l_list, errors_r1, 'go-', label='L1')\n",
    "plt.xlabel('Коэффициент регуляризации')\n",
    "plt.ylabel('MSE')\n",
    "plt.grid()\n",
    "plt.legend();"
   ]
  },
  {
   "cell_type": "code",
   "execution_count": null,
   "metadata": {},
   "outputs": [],
   "source": []
  }
 ],
 "metadata": {
  "kernelspec": {
   "display_name": "Python 3",
   "language": "python",
   "name": "python3"
  },
  "language_info": {
   "codemirror_mode": {
    "name": "ipython",
    "version": 3
   },
   "file_extension": ".py",
   "mimetype": "text/x-python",
   "name": "python",
   "nbconvert_exporter": "python",
   "pygments_lexer": "ipython3",
   "version": "3.7.3"
  }
 },
 "nbformat": 4,
 "nbformat_minor": 2
}
